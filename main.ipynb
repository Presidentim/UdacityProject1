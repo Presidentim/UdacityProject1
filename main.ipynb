{
 "cells": [
  {
   "cell_type": "code",
   "execution_count": 1,
   "metadata": {},
   "outputs": [],
   "source": [
    "import numpy as np\n",
    "import pandas as pd\n",
    "import matplotlib.pyplot as plt\n",
    "from sklearn.linear_model import LinearRegression\n",
    "from sklearn.model_selection import train_test_split\n",
    "from sklearn.metrics import r2_score, mean_squared_error\n",
    "%matplotlib inline\n",
    "\n",
    "df = pd.read_csv('./survey_results_public.csv')\n",
    "\n",
    "#select the variables we need\n",
    "all_vars = df[['Hobbyist', 'ConvertedComp', 'Employment','EdLevel', 'Gender', 'JobSat', 'NEWOnboardGood', 'NEWOtherComms', 'NEWOvertime', 'WorkWeekHrs']]\n",
    "#Drop all the rows with na\n",
    "all_vars = all_vars.dropna()\n",
    "\n",
    "#keep data with only employed\n",
    "#all_vars = all_vars[-all_vars.Employment.isin(['Not employed, but looking for work', 'Not employed, and not looking for work', 'Student', 'Retired', 'I prefer not to say'])]\n",
    "\n",
    "#keep data with those know the boarding\n",
    "all_vars = all_vars[all_vars.NEWOnboardGood.isin(['Yes', 'No'])]\n",
    "\n",
    "#labeling, transform variables to numeric\n",
    "from sklearn.preprocessing import LabelEncoder\n",
    "le=LabelEncoder()\n",
    "#trans 'yes' to 1, 'no' to 2\n",
    "for col in all_vars[['Hobbyist','NEWOnboardGood', 'NEWOtherComms']]:\n",
    "    all_vars[col]=le.fit_transform(all_vars[col])\n",
    "\n",
    "#mapping, transform variables to numeric\n",
    "Gender_mapping = {'Man':0,'Woman':1}\n",
    "JobSat_mapping = {'Very dissatisfied':-2,'Slightly dissatisfied':-1, 'Neither satisfied nor dissatisfied':0, 'Slightly satisfied':1, 'Very satisfied':2}\n",
    "EdLevel_mapping = {'I never completed any formal education':0,'Primary/elementary school':0, 'Secondary school (e.g. American high school, German Realschule or Gymnasium, etc.)':0, 'Some college/university study without earning a degree':0, 'Associate degree (A.A., A.S., etc.)':1, 'Bachelor’s degree (B.A., B.S., B.Eng., etc.)':2, 'Master’s degree (M.A., M.S., M.Eng., MBA, etc.)':3, 'Professional degree (JD, MD, etc.)':4, 'Other doctoral degree (Ph.D., Ed.D., etc.)':4}\n",
    "NEWOvertime_mapping = {'Never':0,'Rarely: 1-2 days per year or less':1, 'Occasionally: 1-2 days per quarter but less than monthly':2, 'Sometimes: 1-2 days per month but less than weekly':3, 'Often: 1-2 days per week or more':4}\n",
    "Employment_mapping = {'Employed full-time':0,'Employed part-time':1, 'Independent contractor, freelancer, or self-employed':2}\n",
    "\n",
    "all_vars['Gender'] = all_vars['Gender'].map(Gender_mapping)\n",
    "all_vars['JobSat'] = all_vars['JobSat'].map(JobSat_mapping)\n",
    "all_vars['EdLevel'] = all_vars['EdLevel'].map(EdLevel_mapping)\n",
    "all_vars['NEWOvertime'] = all_vars['NEWOvertime'].map(NEWOvertime_mapping)\n",
    "all_vars['Employment'] = all_vars['Employment'].map(Employment_mapping)\n"
   ]
  },
  {
   "cell_type": "code",
   "execution_count": 2,
   "metadata": {},
   "outputs": [],
   "source": [
    "def find_optimal_lm_mod(X, y, cutoffs, test_size = .30, random_state=42, plot=True):\n",
    "    '''\n",
    "    INPUT\n",
    "    X - pandas dataframe, X matrix\n",
    "    y - pandas dataframe, response variable\n",
    "    cutoffs - list of ints, cutoff for number of non-zero values in dummy categorical vars\n",
    "    test_size - float between 0 and 1, default 0.3, determines the proportion of data as test data\n",
    "    random_state - int, default 42, controls random state for train_test_split\n",
    "    plot - boolean, default 0.3, True to plot result\n",
    "\n",
    "    OUTPUT\n",
    "    r2_scores_test - list of floats of r2 scores on the test data\n",
    "    r2_scores_train - list of floats of r2 scores on the train data\n",
    "    lm_model - model object from sklearn\n",
    "    X_train, X_test, y_train, y_test - output from sklearn train test split used for optimal model\n",
    "    '''\n",
    "    r2_scores_test, r2_scores_train, num_feats, results = [], [], [], dict()\n",
    "    for cutoff in cutoffs:\n",
    "\n",
    "        #reduce X matrix\n",
    "        reduce_X = X.iloc[:, np.where((X.sum() > cutoff) == True)[0]]\n",
    "        num_feats.append(reduce_X.shape[1])\n",
    "\n",
    "        #split the data into train and test\n",
    "        X_train, X_test, y_train, y_test = train_test_split(reduce_X, y, test_size = test_size, random_state=random_state)\n",
    "\n",
    "        #fit the model and obtain pred response\n",
    "        lm_model = LinearRegression(normalize=True)\n",
    "        lm_model.fit(X_train, y_train)\n",
    "        y_test_preds = lm_model.predict(X_test)\n",
    "        y_train_preds = lm_model.predict(X_train)\n",
    "\n",
    "        #append the r2 value from the test set\n",
    "        r2_scores_test.append(r2_score(y_test, y_test_preds))\n",
    "        r2_scores_train.append(r2_score(y_train, y_train_preds))\n",
    "        results[str(cutoff)] = r2_score(y_test, y_test_preds)\n",
    "\n",
    "    if plot:\n",
    "        plt.plot(num_feats, r2_scores_test, label=\"Test\", alpha=.5)\n",
    "        plt.plot(num_feats, r2_scores_train, label=\"Train\", alpha=.5)\n",
    "        plt.xlabel('Number of Features')\n",
    "        plt.ylabel('Rsquared')\n",
    "        plt.title('Rsquared by Number of Features')\n",
    "        plt.legend(loc=1)\n",
    "        plt.show()\n",
    "\n",
    "    best_cutoff = max(results, key=results.get)\n",
    "\n",
    "    #reduce X matrix\n",
    "    reduce_X = X.iloc[:, np.where((X.sum() > int(best_cutoff)) == True)[0]]\n",
    "    num_feats.append(reduce_X.shape[1])\n",
    "\n",
    "    #split the data into train and test\n",
    "    X_train, X_test, y_train, y_test = train_test_split(reduce_X, y, test_size = test_size, random_state=random_state)\n",
    "\n",
    "    #fit the model\n",
    "    lm_model = LinearRegression(normalize=True)\n",
    "    lm_model.fit(X_train, y_train)\n",
    "\n",
    "    return r2_scores_test, r2_scores_train, lm_model, X_train, X_test, y_train, y_test\n",
    "\n"
   ]
  },
  {
   "cell_type": "code",
   "execution_count": 4,
   "metadata": {},
   "outputs": [
    {
     "data": {
      "image/png": "[encoded data removed]",
      "text/plain": [
       "<Figure size 432x288 with 1 Axes>"
      ]
     },
     "metadata": {
      "needs_background": "light"
     },
     "output_type": "display_data"
    }
   ],
   "source": [
    "#cutoffs here pertains to the number of missing values allowed in the used columns.\n",
    "#Therefore, lower values for the cutoff provides more predictors in the model.\n",
    "cutoffs = [5000, 3500, 2500, 1000, 100, 50, 30, 25]\n",
    "all_vars = all_vars.dropna()\n",
    "y = all_vars['JobSat']\n",
    "X = all_vars.drop(['JobSat'], axis = 1)\n",
    "\n",
    "#Run this cell to pass your X and y to the model for testing\n",
    "r2_scores_test, r2_scores_train, lm_model, X_test, X_train, y_train, y_test = find_optimal_lm_mod(X, y, cutoffs)\n"
   ]
  },
  {
   "cell_type": "code",
   "execution_count": null,
   "metadata": {},
   "outputs": [],
   "source": [
    "def coef_weights(coefficients, X_train):\n",
    "    '''\n",
    "    INPUT:\n",
    "    coefficients - the coefficients of the linear model \n",
    "    X_train - the training data, so the column names can be used\n",
    "    OUTPUT:\n",
    "    coefs_df - a dataframe holding the coefficient, estimate, and abs(estimate)\n",
    "    \n",
    "    Provides a dataframe that can be used to understand the most influential coefficients\n",
    "    in a linear model by providing the coefficient estimates along with the name of the \n",
    "    variable attached to the coefficient.\n",
    "    '''\n",
    "    coefs_df = pd.DataFrame()\n",
    "    coefs_df['est_int'] = X_train.columns\n",
    "    coefs_df['coefs'] = lm_model.coef_\n",
    "    coefs_df['abs_coefs'] = np.abs(lm_model.coef_)\n",
    "    coefs_df = coefs_df.sort_values('abs_coefs', ascending=False)\n",
    "    return coefs_df\n",
    "\n",
    "#Use the function\n",
    "coef_df = coef_weights(lm_model.coef_, X_train)\n",
    "\n",
    "#A quick look at the top results\n",
    "coef_df.head(20)"
   ]
  },
  {
   "cell_type": "code",
   "execution_count": null,
   "metadata": {},
   "outputs": [],
   "source": [
    "print(r2_scores_test[np.argmax(r2_scores_test)]) # The model we should implement test_r2\n",
    "print(r2_scores_train[np.argmax(r2_scores_test)]) # The model we should implement train_r2"
   ]
  }
 ],
 "metadata": {
  "kernelspec": {
   "display_name": "Python 3",
   "language": "python",
   "name": "python3"
  },
  "language_info": {
   "codemirror_mode": {
    "name": "ipython",
    "version": 3
   },
   "file_extension": ".py",
   "mimetype": "text/x-python",
   "name": "python",
   "nbconvert_exporter": "python",
   "pygments_lexer": "ipython3",
   "version": "3.7.4"
  }
 },
 "nbformat": 4,
 "nbformat_minor": 2
}
